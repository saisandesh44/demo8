{
 "cells": [
  {
   "cell_type": "code",
   "execution_count": 5,
   "metadata": {},
   "outputs": [
    {
     "name": "stdout",
     "output_type": "stream",
     "text": [
      "the odd numbers in th list:  [1, 3, 5, 7, 45, 65]\n"
     ]
    }
   ],
   "source": [
    "def rem_even(li):\n",
    "    f_li=[]\n",
    "    \n",
    "    for x in li:\n",
    "        if x%2!=0:\n",
    "           f_li.append(x)\n",
    "    return f_li\n",
    "li=[1,3,4,2,5,6,7,8,12,45,65]\n",
    "print(\"the odd numbers in th list: \",rem_even(li))"
   ]
  }
 ],
 "metadata": {
  "kernelspec": {
   "display_name": "Python 3",
   "language": "python",
   "name": "python3"
  },
  "language_info": {
   "codemirror_mode": {
    "name": "ipython",
    "version": 3
   },
   "file_extension": ".py",
   "mimetype": "text/x-python",
   "name": "python",
   "nbconvert_exporter": "python",
   "pygments_lexer": "ipython3",
   "version": "3.8.3"
  }
 },
 "nbformat": 4,
 "nbformat_minor": 4
}
