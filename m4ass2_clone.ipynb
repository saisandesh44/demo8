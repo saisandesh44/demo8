{
 "cells": [
  {
   "cell_type": "code",
   "execution_count": 4,
   "metadata": {},
   "outputs": [
    {
     "name": "stdout",
     "output_type": "stream",
     "text": [
      "original list:  [1, 12, 3, 45, 54, 65]\n",
      "after cloning:  [1, 12, 3, 45, 54, 65]\n"
     ]
    }
   ],
   "source": [
    "list=[1,12,3,45,54,65]\n",
    "list2=[]\n",
    "list2=list.copy()\n",
    "print(\"original list: \",list)\n",
    "print(\"after cloning: \",list2)"
   ]
  }
 ],
 "metadata": {
  "kernelspec": {
   "display_name": "Python 3",
   "language": "python",
   "name": "python3"
  },
  "language_info": {
   "codemirror_mode": {
    "name": "ipython",
    "version": 3
   },
   "file_extension": ".py",
   "mimetype": "text/x-python",
   "name": "python",
   "nbconvert_exporter": "python",
   "pygments_lexer": "ipython3",
   "version": "3.8.3"
  }
 },
 "nbformat": 4,
 "nbformat_minor": 4
}
